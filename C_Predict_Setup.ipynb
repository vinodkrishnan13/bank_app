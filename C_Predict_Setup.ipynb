{
 "cells": [
  {
   "cell_type": "code",
   "execution_count": 2,
   "metadata": {},
   "outputs": [
    {
     "name": "stdout",
     "output_type": "stream",
     "text": [
      "Writing predictor.py\n"
     ]
    }
   ],
   "source": [
    "%%writefile predictor.py\n",
    "\n",
    "import os\n",
    "\n",
    "import numpy as np\n",
    "import joblib\n",
    "import pandas as pd\n",
    "\n",
    "class BankPredictor(object):\n",
    "\n",
    "    _COLUMN_NAMES = ['age', 'job', 'marital', 'education', 'credit_default', 'housing', 'loan', 'contact', 'contacted_month', 'day_of_week', 'duration', 'compaign', 'pdays', 'previous', 'poutcome', 'emp_var_rate', 'cons_price_idx', 'cons_conf_idx', 'euribor3m', 'nr_employees']\n",
    "    \n",
    "    def __init__(self, model):\n",
    "        self._model = model\n",
    "\n",
    "    def predict(self, instances, **kwargs):\n",
    "        inputs = pd.DataFrame(data=[instances], columns=self._COLUMN_NAMES)\n",
    "        outputs = self._model.predict(inputs)\n",
    "        return outputs.tolist()\n",
    "\n",
    "    @classmethod\n",
    "    def from_path(cls, model_dir):\n",
    "        model_path = os.path.join(model_dir, 'model.joblib')\n",
    "        model = joblib.load(model_path)\n",
    "        return cls(model)"
   ]
  },
  {
   "cell_type": "code",
   "execution_count": 3,
   "metadata": {},
   "outputs": [
    {
     "name": "stdout",
     "output_type": "stream",
     "text": [
      "['no']\n"
     ]
    }
   ],
   "source": [
    "from predictor import BankPredictor\n",
    "\n",
    "model = BankPredictor.from_path('.')\n",
    "                \n",
    "instance = [56, \"housemaid\", \"married\", \"basic.4y\", \"no\", \"no\", \"no\", \"telephone\", \"may\", \"mon\", 261, 1, 999, 0, \"nonexistent\", 1.1, 93.994, -36.4, 4.857, 5191]\n",
    "print(model.predict(instance))"
   ]
  },
  {
   "cell_type": "code",
   "execution_count": 4,
   "metadata": {},
   "outputs": [
    {
     "name": "stdout",
     "output_type": "stream",
     "text": [
      "Writing setup.py\n"
     ]
    }
   ],
   "source": [
    "%%writefile setup.py\n",
    "\n",
    "from setuptools import setup\n",
    "from setuptools import find_packages\n",
    "\n",
    "REQUIRED_PACKAGES = ['xgboost']\n",
    "\n",
    "setup(\n",
    "    name='bank_predict',\n",
    "    version='0.1',\n",
    "    install_requires=REQUIRED_PACKAGES,\n",
    "    packages=find_packages(),\n",
    "    include_package_data=True,\n",
    "    scripts=['predictor.py'])"
   ]
  },
  {
   "cell_type": "code",
   "execution_count": 5,
   "metadata": {},
   "outputs": [
    {
     "name": "stdout",
     "output_type": "stream",
     "text": [
      "running sdist\n",
      "running egg_info\n",
      "creating bank_predict.egg-info\n",
      "writing bank_predict.egg-info/PKG-INFO\n",
      "writing dependency_links to bank_predict.egg-info/dependency_links.txt\n",
      "writing requirements to bank_predict.egg-info/requires.txt\n",
      "writing top-level names to bank_predict.egg-info/top_level.txt\n",
      "writing manifest file 'bank_predict.egg-info/SOURCES.txt'\n",
      "reading manifest file 'bank_predict.egg-info/SOURCES.txt'\n",
      "writing manifest file 'bank_predict.egg-info/SOURCES.txt'\n",
      "warning: sdist: standard file not found: should have one of README, README.rst, README.txt, README.md\n",
      "\n",
      "running check\n",
      "warning: check: missing required meta-data: url\n",
      "\n",
      "warning: check: missing meta-data: either (author and author_email) or (maintainer and maintainer_email) must be supplied\n",
      "\n",
      "creating bank_predict-0.1\n",
      "creating bank_predict-0.1/bank_predict.egg-info\n",
      "copying files to bank_predict-0.1...\n",
      "copying predictor.py -> bank_predict-0.1\n",
      "copying setup.py -> bank_predict-0.1\n",
      "copying bank_predict.egg-info/PKG-INFO -> bank_predict-0.1/bank_predict.egg-info\n",
      "copying bank_predict.egg-info/SOURCES.txt -> bank_predict-0.1/bank_predict.egg-info\n",
      "copying bank_predict.egg-info/dependency_links.txt -> bank_predict-0.1/bank_predict.egg-info\n",
      "copying bank_predict.egg-info/requires.txt -> bank_predict-0.1/bank_predict.egg-info\n",
      "copying bank_predict.egg-info/top_level.txt -> bank_predict-0.1/bank_predict.egg-info\n",
      "Writing bank_predict-0.1/setup.cfg\n",
      "creating dist\n",
      "Creating tar archive\n",
      "removing 'bank_predict-0.1' (and everything under it)\n"
     ]
    }
   ],
   "source": [
    "!python setup.py sdist --formats=gztar"
   ]
  },
  {
   "cell_type": "code",
   "execution_count": 6,
   "metadata": {},
   "outputs": [
    {
     "name": "stdout",
     "output_type": "stream",
     "text": [
      "Copying file://./dist/bank_predict-0.1.tar.gz [Content-Type=application/x-tar]...\n",
      "/ [1 files][  1.1 KiB/  1.1 KiB]                                                \n",
      "Operation completed over 1 objects/1.1 KiB.                                      \n"
     ]
    }
   ],
   "source": [
    "!gsutil cp ./dist/bank_predict-0.1.tar.gz gs://bankapp_gs/bank_predict-0.1.tar.gz"
   ]
  },
  {
   "cell_type": "code",
   "execution_count": 7,
   "metadata": {},
   "outputs": [
    {
     "name": "stdout",
     "output_type": "stream",
     "text": [
      "Using endpoint [https://ml.googleapis.com/]\n",
      "Created ai platform model [projects/mlbankapp/models/BankPredictor].\n"
     ]
    }
   ],
   "source": [
    "!gcloud beta ai-platform models create BankPredictor --regions us-central1 --enable-console-logging"
   ]
  },
  {
   "cell_type": "code",
   "execution_count": 8,
   "metadata": {},
   "outputs": [
    {
     "name": "stdout",
     "output_type": "stream",
     "text": [
      "Using endpoint [https://us-central1-ml.googleapis.com/]\n",
      "\u001b[1;31mERROR:\u001b[0m (gcloud.beta.ai-platform.versions.create) FAILED_PRECONDITION: Field: framework Error: Machine type n1-standard-2 does not support CUSTOM_CLASS.\n",
      "- '@type': type.googleapis.com/google.rpc.BadRequest\n",
      "  fieldViolations:\n",
      "  - description: Machine type n1-standard-2 does not support CUSTOM_CLASS.\n",
      "    field: framework\n"
     ]
    }
   ],
   "source": [
    "!gcloud --quiet beta ai-platform versions create V1 \\\n",
    "  --model BankPredictor \\\n",
    "  --runtime-version 2.7 \\\n",
    "  --python-version 3.7 \\\n",
    "  --origin gs://bankapp_gs/ \\\n",
    "  --package-uris gs://bankapp_gs/bank_predict-0.1.tar.gz \\\n",
    "  --prediction-class predictor.BankPredictor "
   ]
  },
  {
   "cell_type": "code",
   "execution_count": null,
   "metadata": {},
   "outputs": [],
   "source": [
    "{\"instance\": [56, \"housemaid\", \"married\", \"basic.4y\", \"no\", \"no\", \"no\", \"telephone\", \"may\", \"mon\", 261, 1, 999, 0, \"nonexistent\", 1.1, 93.994, -36.4, 4.857, 5191]}"
   ]
  },
  {
   "cell_type": "code",
   "execution_count": 8,
   "metadata": {},
   "outputs": [
    {
     "name": "stdout",
     "output_type": "stream",
     "text": [
      "Using endpoint [https://ml.googleapis.com/]\n",
      "['No']\n"
     ]
    }
   ],
   "source": [
    "!gcloud ai-platform predict --model BankPredictor --version V1 --json-request input.json"
   ]
  }
 ],
 "metadata": {
  "environment": {
   "kernel": "python3",
   "name": "common-cpu.m87",
   "type": "gcloud",
   "uri": "gcr.io/deeplearning-platform-release/base-cpu:m87"
  },
  "kernelspec": {
   "display_name": "Python 3",
   "language": "python",
   "name": "python3"
  },
  "language_info": {
   "codemirror_mode": {
    "name": "ipython",
    "version": 3
   },
   "file_extension": ".py",
   "mimetype": "text/x-python",
   "name": "python",
   "nbconvert_exporter": "python",
   "pygments_lexer": "ipython3",
   "version": "3.7.12"
  },
  "toc": {
   "base_numbering": 1,
   "nav_menu": {},
   "number_sections": true,
   "sideBar": true,
   "skip_h1_title": false,
   "title_cell": "Table of Contents",
   "title_sidebar": "Contents",
   "toc_cell": false,
   "toc_position": {},
   "toc_section_display": true,
   "toc_window_display": false
  }
 },
 "nbformat": 4,
 "nbformat_minor": 4
}
