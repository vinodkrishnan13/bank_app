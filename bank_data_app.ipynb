{
 "cells": [
  {
   "cell_type": "code",
   "execution_count": 1,
   "id": "38c365fa-43d0-4cbe-ab9f-e65b73b7c8ce",
   "metadata": {
    "tags": []
   },
   "outputs": [
    {
     "name": "stdout",
     "output_type": "stream",
     "text": [
      "Requirement already satisfied: xgboost in /opt/conda/lib/python3.7/site-packages (1.5.1)\n",
      "Requirement already satisfied: kfp in /opt/conda/lib/python3.7/site-packages (1.8.10)\n",
      "Requirement already satisfied: scipy in /opt/conda/lib/python3.7/site-packages (from xgboost) (1.7.3)\n",
      "Requirement already satisfied: numpy in /opt/conda/lib/python3.7/site-packages (from xgboost) (1.19.5)\n",
      "Requirement already satisfied: fire<1,>=0.3.1 in /opt/conda/lib/python3.7/site-packages (from kfp) (0.4.0)\n",
      "Requirement already satisfied: google-auth<2,>=1.6.1 in /opt/conda/lib/python3.7/site-packages (from kfp) (1.35.0)\n",
      "Requirement already satisfied: google-cloud-storage<2,>=1.20.0 in /opt/conda/lib/python3.7/site-packages (from kfp) (1.43.0)\n",
      "Requirement already satisfied: requests-toolbelt<1,>=0.8.0 in /opt/conda/lib/python3.7/site-packages (from kfp) (0.9.1)\n",
      "Requirement already satisfied: kubernetes<19,>=8.0.0 in /opt/conda/lib/python3.7/site-packages (from kfp) (18.20.0)\n",
      "Requirement already satisfied: Deprecated<2,>=1.2.7 in /opt/conda/lib/python3.7/site-packages (from kfp) (1.2.13)\n",
      "Requirement already satisfied: google-api-python-client<2,>=1.7.8 in /opt/conda/lib/python3.7/site-packages (from kfp) (1.12.8)\n",
      "Requirement already satisfied: absl-py<=0.11,>=0.9 in /opt/conda/lib/python3.7/site-packages (from kfp) (0.11.0)\n",
      "Requirement already satisfied: click<9,>=7.1.2 in /opt/conda/lib/python3.7/site-packages (from kfp) (8.0.3)\n",
      "Requirement already satisfied: typing-extensions<4,>=3.7.4 in /opt/conda/lib/python3.7/site-packages (from kfp) (3.10.0.2)\n",
      "Requirement already satisfied: strip-hints<1,>=0.1.8 in /opt/conda/lib/python3.7/site-packages (from kfp) (0.1.10)\n",
      "Requirement already satisfied: jsonschema<4,>=3.0.1 in /opt/conda/lib/python3.7/site-packages (from kfp) (3.2.0)\n",
      "Requirement already satisfied: protobuf<4,>=3.13.0 in /opt/conda/lib/python3.7/site-packages (from kfp) (3.19.1)\n",
      "Requirement already satisfied: tabulate<1,>=0.8.6 in /opt/conda/lib/python3.7/site-packages (from kfp) (0.8.9)\n",
      "Requirement already satisfied: cloudpickle<3,>=2.0.0 in /opt/conda/lib/python3.7/site-packages (from kfp) (2.0.0)\n",
      "Requirement already satisfied: uritemplate<4,>=3.0.1 in /opt/conda/lib/python3.7/site-packages (from kfp) (3.0.1)\n",
      "Requirement already satisfied: PyYAML<6,>=5.3 in /opt/conda/lib/python3.7/site-packages (from kfp) (5.4.1)\n",
      "Requirement already satisfied: kfp-pipeline-spec<0.2.0,>=0.1.13 in /opt/conda/lib/python3.7/site-packages (from kfp) (0.1.13)\n",
      "Requirement already satisfied: pydantic<2,>=1.8.2 in /opt/conda/lib/python3.7/site-packages (from kfp) (1.8.2)\n",
      "Requirement already satisfied: docstring-parser<1,>=0.7.3 in /opt/conda/lib/python3.7/site-packages (from kfp) (0.13)\n",
      "Requirement already satisfied: typer<1.0,>=0.3.2 in /opt/conda/lib/python3.7/site-packages (from kfp) (0.4.0)\n",
      "Requirement already satisfied: kfp-server-api<2.0.0,>=1.1.2 in /opt/conda/lib/python3.7/site-packages (from kfp) (1.7.1)\n",
      "Requirement already satisfied: six in /opt/conda/lib/python3.7/site-packages (from absl-py<=0.11,>=0.9->kfp) (1.16.0)\n",
      "Requirement already satisfied: importlib-metadata in /opt/conda/lib/python3.7/site-packages (from click<9,>=7.1.2->kfp) (4.9.0)\n",
      "Requirement already satisfied: wrapt<2,>=1.10 in /opt/conda/lib/python3.7/site-packages (from Deprecated<2,>=1.2.7->kfp) (1.13.3)\n",
      "Requirement already satisfied: termcolor in /opt/conda/lib/python3.7/site-packages (from fire<1,>=0.3.1->kfp) (1.1.0)\n",
      "Requirement already satisfied: google-api-core<2dev,>=1.21.0 in /opt/conda/lib/python3.7/site-packages (from google-api-python-client<2,>=1.7.8->kfp) (1.31.5)\n",
      "Requirement already satisfied: httplib2<1dev,>=0.15.0 in /opt/conda/lib/python3.7/site-packages (from google-api-python-client<2,>=1.7.8->kfp) (0.20.2)\n",
      "Requirement already satisfied: google-auth-httplib2>=0.0.3 in /opt/conda/lib/python3.7/site-packages (from google-api-python-client<2,>=1.7.8->kfp) (0.1.0)\n",
      "Requirement already satisfied: rsa<5,>=3.1.4 in /opt/conda/lib/python3.7/site-packages (from google-auth<2,>=1.6.1->kfp) (4.8)\n",
      "Requirement already satisfied: cachetools<5.0,>=2.0.0 in /opt/conda/lib/python3.7/site-packages (from google-auth<2,>=1.6.1->kfp) (4.2.4)\n",
      "Requirement already satisfied: pyasn1-modules>=0.2.1 in /opt/conda/lib/python3.7/site-packages (from google-auth<2,>=1.6.1->kfp) (0.2.7)\n",
      "Requirement already satisfied: setuptools>=40.3.0 in /opt/conda/lib/python3.7/site-packages (from google-auth<2,>=1.6.1->kfp) (59.6.0)\n",
      "Requirement already satisfied: google-resumable-media<3.0dev,>=1.3.0 in /opt/conda/lib/python3.7/site-packages (from google-cloud-storage<2,>=1.20.0->kfp) (2.1.0)\n",
      "Requirement already satisfied: requests<3.0.0dev,>=2.18.0 in /opt/conda/lib/python3.7/site-packages (from google-cloud-storage<2,>=1.20.0->kfp) (2.26.0)\n",
      "Requirement already satisfied: google-cloud-core<3.0dev,>=1.6.0 in /opt/conda/lib/python3.7/site-packages (from google-cloud-storage<2,>=1.20.0->kfp) (2.2.1)\n",
      "Requirement already satisfied: pyrsistent>=0.14.0 in /opt/conda/lib/python3.7/site-packages (from jsonschema<4,>=3.0.1->kfp) (0.18.0)\n",
      "Requirement already satisfied: attrs>=17.4.0 in /opt/conda/lib/python3.7/site-packages (from jsonschema<4,>=3.0.1->kfp) (21.2.0)\n",
      "Requirement already satisfied: urllib3>=1.15 in /opt/conda/lib/python3.7/site-packages (from kfp-server-api<2.0.0,>=1.1.2->kfp) (1.26.7)\n",
      "Requirement already satisfied: python-dateutil in /opt/conda/lib/python3.7/site-packages (from kfp-server-api<2.0.0,>=1.1.2->kfp) (2.8.2)\n",
      "Requirement already satisfied: certifi in /opt/conda/lib/python3.7/site-packages (from kfp-server-api<2.0.0,>=1.1.2->kfp) (2021.10.8)\n",
      "Requirement already satisfied: websocket-client!=0.40.0,!=0.41.*,!=0.42.*,>=0.32.0 in /opt/conda/lib/python3.7/site-packages (from kubernetes<19,>=8.0.0->kfp) (1.2.3)\n",
      "Requirement already satisfied: requests-oauthlib in /opt/conda/lib/python3.7/site-packages (from kubernetes<19,>=8.0.0->kfp) (1.3.0)\n",
      "Requirement already satisfied: wheel in /opt/conda/lib/python3.7/site-packages (from strip-hints<1,>=0.1.8->kfp) (0.37.0)\n",
      "Requirement already satisfied: googleapis-common-protos<2.0dev,>=1.6.0 in /opt/conda/lib/python3.7/site-packages (from google-api-core<2dev,>=1.21.0->google-api-python-client<2,>=1.7.8->kfp) (1.53.0)\n",
      "Requirement already satisfied: packaging>=14.3 in /opt/conda/lib/python3.7/site-packages (from google-api-core<2dev,>=1.21.0->google-api-python-client<2,>=1.7.8->kfp) (21.3)\n",
      "Requirement already satisfied: pytz in /opt/conda/lib/python3.7/site-packages (from google-api-core<2dev,>=1.21.0->google-api-python-client<2,>=1.7.8->kfp) (2021.3)\n",
      "Requirement already satisfied: google-crc32c<2.0dev,>=1.0 in /opt/conda/lib/python3.7/site-packages (from google-resumable-media<3.0dev,>=1.3.0->google-cloud-storage<2,>=1.20.0->kfp) (1.1.2)\n",
      "Requirement already satisfied: pyparsing!=3.0.0,!=3.0.1,!=3.0.2,!=3.0.3,<4,>=2.4.2 in /opt/conda/lib/python3.7/site-packages (from httplib2<1dev,>=0.15.0->google-api-python-client<2,>=1.7.8->kfp) (3.0.6)\n",
      "Requirement already satisfied: pyasn1<0.5.0,>=0.4.6 in /opt/conda/lib/python3.7/site-packages (from pyasn1-modules>=0.2.1->google-auth<2,>=1.6.1->kfp) (0.4.8)\n",
      "Requirement already satisfied: charset-normalizer~=2.0.0 in /opt/conda/lib/python3.7/site-packages (from requests<3.0.0dev,>=2.18.0->google-cloud-storage<2,>=1.20.0->kfp) (2.0.9)\n",
      "Requirement already satisfied: idna<4,>=2.5 in /opt/conda/lib/python3.7/site-packages (from requests<3.0.0dev,>=2.18.0->google-cloud-storage<2,>=1.20.0->kfp) (3.1)\n",
      "Requirement already satisfied: zipp>=0.5 in /opt/conda/lib/python3.7/site-packages (from importlib-metadata->click<9,>=7.1.2->kfp) (3.6.0)\n",
      "Requirement already satisfied: oauthlib>=3.0.0 in /opt/conda/lib/python3.7/site-packages (from requests-oauthlib->kubernetes<19,>=8.0.0->kfp) (3.1.1)\n",
      "Requirement already satisfied: cffi>=1.0.0 in /opt/conda/lib/python3.7/site-packages (from google-crc32c<2.0dev,>=1.0->google-resumable-media<3.0dev,>=1.3.0->google-cloud-storage<2,>=1.20.0->kfp) (1.15.0)\n",
      "Requirement already satisfied: pycparser in /opt/conda/lib/python3.7/site-packages (from cffi>=1.0.0->google-crc32c<2.0dev,>=1.0->google-resumable-media<3.0dev,>=1.3.0->google-cloud-storage<2,>=1.20.0->kfp) (2.21)\n"
     ]
    }
   ],
   "source": [
    "!pip install -U xgboost kfp"
   ]
  },
  {
   "cell_type": "code",
   "execution_count": 2,
   "id": "db268d2a-39e4-485c-9f61-0452b163c6be",
   "metadata": {},
   "outputs": [],
   "source": [
    "import warnings\n",
    "warnings.filterwarnings('ignore')"
   ]
  },
  {
   "cell_type": "code",
   "execution_count": 3,
   "id": "de5cb92c-6b0b-4735-a3b8-831709c229f5",
   "metadata": {},
   "outputs": [
    {
     "name": "stdout",
     "output_type": "stream",
     "text": [
      "mlbankapp\n",
      "gs://bankapp_gs\n",
      "bank_data.csv\n",
      "rf_model.joblib\n",
      "xgb_model.joblib\n",
      "model.joblib\n"
     ]
    }
   ],
   "source": [
    "PROJECT_ID = !(gcloud config get-value core/project)\n",
    "PROJECT_ID = PROJECT_ID[0]\n",
    "print(PROJECT_ID)\n",
    "\n",
    "GS_PATH = \"gs://bankapp_gs\"\n",
    "print(GS_PATH)\n",
    "\n",
    "DATA_FILE_NAME = \"bank_data.csv\"\n",
    "print(DATA_FILE_NAME)\n",
    "\n",
    "RF_MODEL = \"rf_model.joblib\"\n",
    "XGB_MODEL = \"xgb_model.joblib\"\n",
    "BEST_MODEL = \"model.joblib\"\n",
    "\n",
    "print(RF_MODEL)\n",
    "print(XGB_MODEL)\n",
    "print(BEST_MODEL)"
   ]
  },
  {
   "cell_type": "raw",
   "id": "7b9d00db-2935-4264-83a6-a26ed462947e",
   "metadata": {
    "tags": []
   },
   "source": [
    "DATA_FILE_NAME = \"bank_data.csv\"\n",
    "TRAIN_FILE_NAME = \"train_data.csv\"\n",
    "TEST_FILE_NAME = \"test_data.csv\"\n",
    "\n",
    "DATA_FILE_GS_PATH = \"{}/{}\".format(GS_PATH, DATA_FILE_NAME)\n",
    "TRAIN_FILE_GS_PATH = \"{}/{}\".format(GS_PATH, TRAIN_FILE_NAME)\n",
    "TEST_FILE_GS_PATH = \"{}/{}\".format(GS_PATH, TEST_FILE_NAME)\n",
    "\n",
    "print(DATA_FILE_GS_PATH)\n",
    "print(TRAIN_FILE_GS_PATH)\n",
    "print(TEST_FILE_GS_PATH)"
   ]
  },
  {
   "cell_type": "code",
   "execution_count": 4,
   "id": "4945e91e-3b78-4232-9fdc-33017429b992",
   "metadata": {},
   "outputs": [
    {
     "name": "stdout",
     "output_type": "stream",
     "text": [
      "Writing ./Dockerfile\n"
     ]
    }
   ],
   "source": [
    "%%writefile ./Dockerfile\n",
    "FROM gcr.io/deeplearning-platform-release/base-cpu\n",
    "RUN pip install -U kfp fire pandas scikit-learn xgboost "
   ]
  },
  {
   "cell_type": "code",
   "execution_count": 5,
   "id": "4b7e7bbf-a204-4280-bc85-49d40c357dd0",
   "metadata": {},
   "outputs": [
    {
     "data": {
      "text/plain": [
       "'gcr.io/mlbankapp/bank_app:latest'"
      ]
     },
     "execution_count": 5,
     "metadata": {},
     "output_type": "execute_result"
    }
   ],
   "source": [
    "BANK_APP_IMAGE='bank_app'\n",
    "TAG='latest'\n",
    "BANK_APP_IMAGE_GCR='gcr.io/{}/{}:{}'.format(PROJECT_ID, BANK_APP_IMAGE, TAG)\n",
    "BANK_APP_IMAGE_GCR"
   ]
  },
  {
   "cell_type": "code",
   "execution_count": 6,
   "id": "0a0921a7-f401-4f8a-8a1b-6d85abd20a79",
   "metadata": {},
   "outputs": [
    {
     "name": "stdout",
     "output_type": "stream",
     "text": [
      "Creating temporary tarball archive of 3 file(s) totalling 78.3 KiB before compression.\n",
      "Uploading tarball of [.] to [gs://mlbankapp_cloudbuild/source/1641392730.711963-675a143d17a8410e8a30d6595d3bf3de.tgz]\n",
      "Created [https://cloudbuild.googleapis.com/v1/projects/mlbankapp/locations/global/builds/1286a182-6611-4723-9f5a-ea2f63eeab85].\n",
      "Logs are available at [https://console.cloud.google.com/cloud-build/builds/1286a182-6611-4723-9f5a-ea2f63eeab85?project=248389392445].\n",
      "----------------------------- REMOTE BUILD OUTPUT ------------------------------\n",
      "starting build \"1286a182-6611-4723-9f5a-ea2f63eeab85\"\n",
      "\n",
      "FETCHSOURCE\n",
      "Fetching storage object: gs://mlbankapp_cloudbuild/source/1641392730.711963-675a143d17a8410e8a30d6595d3bf3de.tgz#1641392730886224\n",
      "Copying gs://mlbankapp_cloudbuild/source/1641392730.711963-675a143d17a8410e8a30d6595d3bf3de.tgz#1641392730886224...\n",
      "/ [1 files][ 10.8 KiB/ 10.8 KiB]                                                \n",
      "Operation completed over 1 objects/10.8 KiB.\n",
      "BUILD\n",
      "Already have image (with digest): gcr.io/cloud-builders/docker\n",
      "Sending build context to Docker daemon  84.48kB\n",
      "Step 1/2 : FROM gcr.io/deeplearning-platform-release/base-cpu\n",
      "latest: Pulling from deeplearning-platform-release/base-cpu\n",
      "7b1a6ab2e44d: Already exists\n",
      "afe6e63412ab: Pulling fs layer\n",
      "5b73234eab2e: Pulling fs layer\n",
      "1685de22cc18: Pulling fs layer\n",
      "4f4fb700ef54: Pulling fs layer\n",
      "b47909ca4b31: Pulling fs layer\n",
      "17bb6932867c: Pulling fs layer\n",
      "334ec3463b8d: Pulling fs layer\n",
      "9832ea45781a: Pulling fs layer\n",
      "6dd58a1feee0: Pulling fs layer\n",
      "4eba552f6461: Pulling fs layer\n",
      "318bfd6f44e9: Pulling fs layer\n",
      "f68af1a5c61b: Pulling fs layer\n",
      "005c6ce38bc0: Pulling fs layer\n",
      "f70512a0e436: Pulling fs layer\n",
      "63c5da3a0938: Pulling fs layer\n",
      "559eafc8c9b9: Pulling fs layer\n",
      "558154dd3629: Pulling fs layer\n",
      "4f4fb700ef54: Waiting\n",
      "b47909ca4b31: Waiting\n",
      "17bb6932867c: Waiting\n",
      "334ec3463b8d: Waiting\n",
      "9832ea45781a: Waiting\n",
      "6dd58a1feee0: Waiting\n",
      "4eba552f6461: Waiting\n",
      "318bfd6f44e9: Waiting\n",
      "f68af1a5c61b: Waiting\n",
      "005c6ce38bc0: Waiting\n",
      "f70512a0e436: Waiting\n",
      "63c5da3a0938: Waiting\n",
      "559eafc8c9b9: Waiting\n",
      "558154dd3629: Waiting\n",
      "afe6e63412ab: Verifying Checksum\n",
      "afe6e63412ab: Download complete\n",
      "4f4fb700ef54: Verifying Checksum\n",
      "4f4fb700ef54: Download complete\n",
      "afe6e63412ab: Pull complete\n",
      "b47909ca4b31: Verifying Checksum\n",
      "b47909ca4b31: Download complete\n",
      "1685de22cc18: Verifying Checksum\n",
      "1685de22cc18: Download complete\n",
      "334ec3463b8d: Verifying Checksum\n",
      "334ec3463b8d: Download complete\n",
      "9832ea45781a: Verifying Checksum\n",
      "9832ea45781a: Download complete\n",
      "6dd58a1feee0: Verifying Checksum\n",
      "6dd58a1feee0: Download complete\n",
      "4eba552f6461: Verifying Checksum\n",
      "4eba552f6461: Download complete\n",
      "17bb6932867c: Verifying Checksum\n",
      "17bb6932867c: Download complete\n",
      "f68af1a5c61b: Verifying Checksum\n",
      "f68af1a5c61b: Download complete\n",
      "318bfd6f44e9: Verifying Checksum\n",
      "318bfd6f44e9: Download complete\n",
      "005c6ce38bc0: Verifying Checksum\n",
      "005c6ce38bc0: Download complete\n",
      "f70512a0e436: Verifying Checksum\n",
      "f70512a0e436: Download complete\n",
      "63c5da3a0938: Verifying Checksum\n",
      "63c5da3a0938: Download complete\n",
      "558154dd3629: Verifying Checksum\n",
      "558154dd3629: Download complete\n",
      "5b73234eab2e: Download complete\n",
      "559eafc8c9b9: Verifying Checksum\n",
      "559eafc8c9b9: Download complete\n",
      "5b73234eab2e: Pull complete\n",
      "1685de22cc18: Pull complete\n",
      "4f4fb700ef54: Pull complete\n",
      "b47909ca4b31: Pull complete\n",
      "17bb6932867c: Pull complete\n",
      "334ec3463b8d: Pull complete\n",
      "9832ea45781a: Pull complete\n",
      "6dd58a1feee0: Pull complete\n",
      "4eba552f6461: Pull complete\n",
      "318bfd6f44e9: Pull complete\n",
      "f68af1a5c61b: Pull complete\n",
      "005c6ce38bc0: Pull complete\n",
      "f70512a0e436: Pull complete\n",
      "63c5da3a0938: Pull complete\n",
      "559eafc8c9b9: Pull complete\n",
      "558154dd3629: Pull complete\n",
      "Digest: sha256:f5e5f89edac3ca1399f03b83136545610a5a205754eee28149a55900cd9b68cc\n",
      "Status: Downloaded newer image for gcr.io/deeplearning-platform-release/base-cpu:latest\n",
      " ---> 9d37d1fb4b24\n",
      "Step 2/2 : RUN pip install -U kfp fire pandas scikit-learn xgboost\n",
      " ---> Running in bac40234ee11\n",
      "Collecting kfp\n",
      "  Downloading kfp-1.8.10.tar.gz (298 kB)\n",
      "  Preparing metadata (setup.py): started\n",
      "  Preparing metadata (setup.py): finished with status 'done'\n",
      "Collecting fire\n",
      "  Downloading fire-0.4.0.tar.gz (87 kB)\n",
      "  Preparing metadata (setup.py): started\n",
      "  Preparing metadata (setup.py): finished with status 'done'\n",
      "Requirement already satisfied: pandas in /opt/conda/lib/python3.7/site-packages (1.3.5)\n",
      "Requirement already satisfied: scikit-learn in /opt/conda/lib/python3.7/site-packages (1.0.1)\n",
      "Collecting scikit-learn\n",
      "  Downloading scikit_learn-1.0.2-cp37-cp37m-manylinux_2_17_x86_64.manylinux2014_x86_64.whl (24.8 MB)\n",
      "Collecting xgboost\n",
      "  Downloading xgboost-1.5.1-py3-none-manylinux2014_x86_64.whl (173.5 MB)\n",
      "Collecting absl-py<=0.11,>=0.9\n",
      "  Downloading absl_py-0.11.0-py3-none-any.whl (127 kB)\n",
      "Collecting PyYAML<6,>=5.3\n",
      "  Downloading PyYAML-5.4.1-cp37-cp37m-manylinux1_x86_64.whl (636 kB)\n",
      "Requirement already satisfied: google-cloud-storage<2,>=1.20.0 in /opt/conda/lib/python3.7/site-packages (from kfp) (1.43.0)\n",
      "Collecting kubernetes<19,>=8.0.0\n",
      "  Downloading kubernetes-18.20.0-py2.py3-none-any.whl (1.6 MB)\n",
      "Collecting google-api-python-client<2,>=1.7.8\n",
      "  Downloading google_api_python_client-1.12.8-py2.py3-none-any.whl (61 kB)\n",
      "Collecting google-auth<2,>=1.6.1\n",
      "  Downloading google_auth-1.35.0-py2.py3-none-any.whl (152 kB)\n",
      "Collecting requests-toolbelt<1,>=0.8.0\n",
      "  Downloading requests_toolbelt-0.9.1-py2.py3-none-any.whl (54 kB)\n",
      "Requirement already satisfied: cloudpickle<3,>=2.0.0 in /opt/conda/lib/python3.7/site-packages (from kfp) (2.0.0)\n",
      "Collecting kfp-server-api<2.0.0,>=1.1.2\n",
      "  Downloading kfp-server-api-1.7.1.tar.gz (52 kB)\n",
      "  Preparing metadata (setup.py): started\n",
      "  Preparing metadata (setup.py): finished with status 'done'\n",
      "Collecting jsonschema<4,>=3.0.1\n",
      "  Downloading jsonschema-3.2.0-py2.py3-none-any.whl (56 kB)\n",
      "Collecting tabulate<1,>=0.8.6\n",
      "  Downloading tabulate-0.8.9-py3-none-any.whl (25 kB)\n",
      "Requirement already satisfied: click<9,>=7.1.2 in /opt/conda/lib/python3.7/site-packages (from kfp) (8.0.3)\n",
      "Collecting Deprecated<2,>=1.2.7\n",
      "  Downloading Deprecated-1.2.13-py2.py3-none-any.whl (9.6 kB)\n",
      "Collecting strip-hints<1,>=0.1.8\n",
      "  Downloading strip-hints-0.1.10.tar.gz (29 kB)\n",
      "  Preparing metadata (setup.py): started\n",
      "  Preparing metadata (setup.py): finished with status 'done'\n",
      "Collecting docstring-parser<1,>=0.7.3\n",
      "  Downloading docstring_parser-0.13.tar.gz (23 kB)\n",
      "  Installing build dependencies: started\n",
      "  Installing build dependencies: finished with status 'done'\n",
      "  Getting requirements to build wheel: started\n",
      "  Getting requirements to build wheel: finished with status 'done'\n",
      "  Preparing metadata (pyproject.toml): started\n",
      "  Preparing metadata (pyproject.toml): finished with status 'done'\n",
      "Collecting kfp-pipeline-spec<0.2.0,>=0.1.13\n",
      "  Downloading kfp_pipeline_spec-0.1.13-py3-none-any.whl (18 kB)\n",
      "Requirement already satisfied: protobuf<4,>=3.13.0 in /opt/conda/lib/python3.7/site-packages (from kfp) (3.19.1)\n",
      "Collecting uritemplate<4,>=3.0.1\n",
      "  Downloading uritemplate-3.0.1-py2.py3-none-any.whl (15 kB)\n",
      "Requirement already satisfied: pydantic<2,>=1.8.2 in /opt/conda/lib/python3.7/site-packages (from kfp) (1.8.2)\n",
      "Collecting typer<1.0,>=0.3.2\n",
      "  Downloading typer-0.4.0-py3-none-any.whl (27 kB)\n",
      "Collecting typing-extensions<4,>=3.7.4\n",
      "  Downloading typing_extensions-3.10.0.2-py3-none-any.whl (26 kB)\n",
      "Requirement already satisfied: six in /opt/conda/lib/python3.7/site-packages (from fire) (1.16.0)\n",
      "Collecting termcolor\n",
      "  Downloading termcolor-1.1.0.tar.gz (3.9 kB)\n",
      "  Preparing metadata (setup.py): started\n",
      "  Preparing metadata (setup.py): finished with status 'done'\n",
      "Requirement already satisfied: python-dateutil>=2.7.3 in /opt/conda/lib/python3.7/site-packages (from pandas) (2.8.2)\n",
      "Requirement already satisfied: pytz>=2017.3 in /opt/conda/lib/python3.7/site-packages (from pandas) (2021.3)\n",
      "Requirement already satisfied: numpy>=1.17.3 in /opt/conda/lib/python3.7/site-packages (from pandas) (1.19.5)\n",
      "Requirement already satisfied: joblib>=0.11 in /opt/conda/lib/python3.7/site-packages (from scikit-learn) (1.0.1)\n",
      "Requirement already satisfied: scipy>=1.1.0 in /opt/conda/lib/python3.7/site-packages (from scikit-learn) (1.7.3)\n",
      "Requirement already satisfied: threadpoolctl>=2.0.0 in /opt/conda/lib/python3.7/site-packages (from scikit-learn) (3.0.0)\n",
      "Requirement already satisfied: importlib-metadata in /opt/conda/lib/python3.7/site-packages (from click<9,>=7.1.2->kfp) (4.9.0)\n",
      "Requirement already satisfied: wrapt<2,>=1.10 in /opt/conda/lib/python3.7/site-packages (from Deprecated<2,>=1.2.7->kfp) (1.13.3)\n",
      "Collecting google-api-core<2dev,>=1.21.0\n",
      "  Downloading google_api_core-1.31.5-py2.py3-none-any.whl (93 kB)\n",
      "Requirement already satisfied: httplib2<1dev,>=0.15.0 in /opt/conda/lib/python3.7/site-packages (from google-api-python-client<2,>=1.7.8->kfp) (0.20.2)\n",
      "Requirement already satisfied: google-auth-httplib2>=0.0.3 in /opt/conda/lib/python3.7/site-packages (from google-api-python-client<2,>=1.7.8->kfp) (0.1.0)\n",
      "Requirement already satisfied: pyasn1-modules>=0.2.1 in /opt/conda/lib/python3.7/site-packages (from google-auth<2,>=1.6.1->kfp) (0.2.7)\n",
      "Requirement already satisfied: cachetools<5.0,>=2.0.0 in /opt/conda/lib/python3.7/site-packages (from google-auth<2,>=1.6.1->kfp) (4.2.4)\n",
      "Requirement already satisfied: rsa<5,>=3.1.4 in /opt/conda/lib/python3.7/site-packages (from google-auth<2,>=1.6.1->kfp) (4.8)\n",
      "Requirement already satisfied: setuptools>=40.3.0 in /opt/conda/lib/python3.7/site-packages (from google-auth<2,>=1.6.1->kfp) (59.6.0)\n",
      "Requirement already satisfied: google-resumable-media<3.0dev,>=1.3.0 in /opt/conda/lib/python3.7/site-packages (from google-cloud-storage<2,>=1.20.0->kfp) (2.1.0)\n",
      "Requirement already satisfied: requests<3.0.0dev,>=2.18.0 in /opt/conda/lib/python3.7/site-packages (from google-cloud-storage<2,>=1.20.0->kfp) (2.26.0)\n",
      "Requirement already satisfied: google-cloud-core<3.0dev,>=1.6.0 in /opt/conda/lib/python3.7/site-packages (from google-cloud-storage<2,>=1.20.0->kfp) (2.2.1)\n",
      "Requirement already satisfied: attrs>=17.4.0 in /opt/conda/lib/python3.7/site-packages (from jsonschema<4,>=3.0.1->kfp) (21.2.0)\n",
      "Requirement already satisfied: pyrsistent>=0.14.0 in /opt/conda/lib/python3.7/site-packages (from jsonschema<4,>=3.0.1->kfp) (0.18.0)\n",
      "Requirement already satisfied: urllib3>=1.15 in /opt/conda/lib/python3.7/site-packages (from kfp-server-api<2.0.0,>=1.1.2->kfp) (1.26.7)\n",
      "Requirement already satisfied: certifi in /opt/conda/lib/python3.7/site-packages (from kfp-server-api<2.0.0,>=1.1.2->kfp) (2021.10.8)\n",
      "Requirement already satisfied: websocket-client!=0.40.0,!=0.41.*,!=0.42.*,>=0.32.0 in /opt/conda/lib/python3.7/site-packages (from kubernetes<19,>=8.0.0->kfp) (1.2.3)\n",
      "Requirement already satisfied: requests-oauthlib in /opt/conda/lib/python3.7/site-packages (from kubernetes<19,>=8.0.0->kfp) (1.3.0)\n",
      "Requirement already satisfied: wheel in /opt/conda/lib/python3.7/site-packages (from strip-hints<1,>=0.1.8->kfp) (0.37.0)\n",
      "Requirement already satisfied: packaging>=14.3 in /opt/conda/lib/python3.7/site-packages (from google-api-core<2dev,>=1.21.0->google-api-python-client<2,>=1.7.8->kfp) (21.3)\n",
      "Requirement already satisfied: googleapis-common-protos<2.0dev,>=1.6.0 in /opt/conda/lib/python3.7/site-packages (from google-api-core<2dev,>=1.21.0->google-api-python-client<2,>=1.7.8->kfp) (1.53.0)\n",
      "Requirement already satisfied: google-crc32c<2.0dev,>=1.0 in /opt/conda/lib/python3.7/site-packages (from google-resumable-media<3.0dev,>=1.3.0->google-cloud-storage<2,>=1.20.0->kfp) (1.1.2)\n",
      "Requirement already satisfied: pyparsing!=3.0.0,!=3.0.1,!=3.0.2,!=3.0.3,<4,>=2.4.2 in /opt/conda/lib/python3.7/site-packages (from httplib2<1dev,>=0.15.0->google-api-python-client<2,>=1.7.8->kfp) (3.0.6)\n",
      "Requirement already satisfied: pyasn1<0.5.0,>=0.4.6 in /opt/conda/lib/python3.7/site-packages (from pyasn1-modules>=0.2.1->google-auth<2,>=1.6.1->kfp) (0.4.8)\n",
      "Requirement already satisfied: charset-normalizer~=2.0.0 in /opt/conda/lib/python3.7/site-packages (from requests<3.0.0dev,>=2.18.0->google-cloud-storage<2,>=1.20.0->kfp) (2.0.9)\n",
      "Requirement already satisfied: idna<4,>=2.5 in /opt/conda/lib/python3.7/site-packages (from requests<3.0.0dev,>=2.18.0->google-cloud-storage<2,>=1.20.0->kfp) (3.1)\n",
      "Requirement already satisfied: zipp>=0.5 in /opt/conda/lib/python3.7/site-packages (from importlib-metadata->click<9,>=7.1.2->kfp) (3.6.0)\n",
      "Requirement already satisfied: oauthlib>=3.0.0 in /opt/conda/lib/python3.7/site-packages (from requests-oauthlib->kubernetes<19,>=8.0.0->kfp) (3.1.1)\n",
      "Requirement already satisfied: cffi>=1.0.0 in /opt/conda/lib/python3.7/site-packages (from google-crc32c<2.0dev,>=1.0->google-resumable-media<3.0dev,>=1.3.0->google-cloud-storage<2,>=1.20.0->kfp) (1.15.0)\n",
      "Requirement already satisfied: pycparser in /opt/conda/lib/python3.7/site-packages (from cffi>=1.0.0->google-crc32c<2.0dev,>=1.0->google-resumable-media<3.0dev,>=1.3.0->google-cloud-storage<2,>=1.20.0->kfp) (2.21)\n",
      "Building wheels for collected packages: kfp, fire, docstring-parser, kfp-server-api, strip-hints, termcolor\n",
      "  Building wheel for kfp (setup.py): started\n",
      "  Building wheel for kfp (setup.py): finished with status 'done'\n",
      "  Created wheel for kfp: filename=kfp-1.8.10-py3-none-any.whl size=413932 sha256=d33f0f14f5455ecff64eeb030ff9c9bb342e79c37bba4e65b43ea50120c24244\n",
      "  Stored in directory: /root/.cache/pip/wheels/13/9d/b7/e10e12227ddf3aa9eb9cd86e89a6db4a1ea4f09ec5e60c4b81\n",
      "  Building wheel for fire (setup.py): started\n",
      "  Building wheel for fire (setup.py): finished with status 'done'\n",
      "  Created wheel for fire: filename=fire-0.4.0-py2.py3-none-any.whl size=115943 sha256=22a1915adccca8baef488513047bae842bdd0d77856f1de9e8506b24c3e90af1\n",
      "  Stored in directory: /root/.cache/pip/wheels/8a/67/fb/2e8a12fa16661b9d5af1f654bd199366799740a85c64981226\n",
      "  Building wheel for docstring-parser (pyproject.toml): started\n",
      "  Building wheel for docstring-parser (pyproject.toml): finished with status 'done'\n",
      "  Created wheel for docstring-parser: filename=docstring_parser-0.13-py3-none-any.whl size=31866 sha256=11a509fc6f82c7ae85865a612b94e9705ba24436107370b57ba70c505cf42110\n",
      "  Stored in directory: /root/.cache/pip/wheels/bd/88/3c/d1aa049309f7945178cac9fbe6561a86424f432da57c18ca0f\n",
      "  Building wheel for kfp-server-api (setup.py): started\n",
      "  Building wheel for kfp-server-api (setup.py): finished with status 'done'\n",
      "  Created wheel for kfp-server-api: filename=kfp_server_api-1.7.1-py3-none-any.whl size=92618 sha256=03c843a9a4b970e7c1b146b9774eb166c4355fc039e0bf6117c646f2d47cfa78\n",
      "  Stored in directory: /root/.cache/pip/wheels/68/3f/d5/734c0278dd6c8969cef359edcf059505a61452c5eb0e2760e1\n",
      "  Building wheel for strip-hints (setup.py): started\n",
      "  Building wheel for strip-hints (setup.py): finished with status 'done'\n",
      "  Created wheel for strip-hints: filename=strip_hints-0.1.10-py2.py3-none-any.whl size=22302 sha256=aba5ea0c11935ae270977be17204510704c12e6ad8031c7f3e431aaa8a2f3934\n",
      "  Stored in directory: /root/.cache/pip/wheels/5e/14/c3/6e44e9b2545f2d570b03f5b6d38c00b7534aa8abb376978363\n",
      "  Building wheel for termcolor (setup.py): started\n",
      "  Building wheel for termcolor (setup.py): finished with status 'done'\n",
      "  Created wheel for termcolor: filename=termcolor-1.1.0-py3-none-any.whl size=4847 sha256=b5f0330b21ffc62554390290851580925f8b14ba6a2c34501ae930fa4216e994\n",
      "  Stored in directory: /root/.cache/pip/wheels/3f/e3/ec/8a8336ff196023622fbcb36de0c5a5c218cbb24111d1d4c7f2\n",
      "Successfully built kfp fire docstring-parser kfp-server-api strip-hints termcolor\n",
      "Installing collected packages: typing-extensions, google-auth, google-api-core, uritemplate, termcolor, PyYAML, typer, tabulate, strip-hints, requests-toolbelt, kubernetes, kfp-server-api, kfp-pipeline-spec, jsonschema, google-api-python-client, fire, docstring-parser, Deprecated, absl-py, xgboost, scikit-learn, kfp\n",
      "  Attempting uninstall: typing-extensions\n",
      "    Found existing installation: typing-extensions 4.0.1\n",
      "    Uninstalling typing-extensions-4.0.1:\n",
      "      Successfully uninstalled typing-extensions-4.0.1\n",
      "  Attempting uninstall: google-auth\n",
      "    Found existing installation: google-auth 2.3.3\n",
      "    Uninstalling google-auth-2.3.3:\n",
      "      Successfully uninstalled google-auth-2.3.3\n",
      "  Attempting uninstall: google-api-core\n",
      "    Found existing installation: google-api-core 2.3.2\n",
      "    Uninstalling google-api-core-2.3.2:\n",
      "      Successfully uninstalled google-api-core-2.3.2\n",
      "  Attempting uninstall: uritemplate\n",
      "    Found existing installation: uritemplate 4.1.1\n",
      "    Uninstalling uritemplate-4.1.1:\n",
      "      Successfully uninstalled uritemplate-4.1.1\n",
      "  Attempting uninstall: PyYAML\n",
      "    Found existing installation: PyYAML 6.0\n",
      "    Uninstalling PyYAML-6.0:\n",
      "      Successfully uninstalled PyYAML-6.0\n",
      "  Attempting uninstall: kubernetes\n",
      "    Found existing installation: kubernetes 21.7.0\n",
      "    Uninstalling kubernetes-21.7.0:\n",
      "      Successfully uninstalled kubernetes-21.7.0\n",
      "  Attempting uninstall: jsonschema\n",
      "    Found existing installation: jsonschema 4.3.1\n",
      "    Uninstalling jsonschema-4.3.1:\n",
      "      Successfully uninstalled jsonschema-4.3.1\n",
      "  Attempting uninstall: google-api-python-client\n",
      "    Found existing installation: google-api-python-client 2.33.0\n",
      "    Uninstalling google-api-python-client-2.33.0:\n",
      "      Successfully uninstalled google-api-python-client-2.33.0\n",
      "  Attempting uninstall: scikit-learn\n",
      "    Found existing installation: scikit-learn 1.0.1\n",
      "    Uninstalling scikit-learn-1.0.1:\n",
      "      Successfully uninstalled scikit-learn-1.0.1\n",
      "Successfully installed Deprecated-1.2.13 PyYAML-5.4.1 absl-py-0.11.0 docstring-parser-0.13 fire-0.4.0 google-api-core-1.31.5 google-api-python-client-1.12.8 google-auth-1.35.0 jsonschema-3.2.0 kfp-1.8.10 kfp-pipeline-spec-0.1.13 kfp-server-api-1.7.1 kubernetes-18.20.0 requests-toolbelt-0.9.1 scikit-learn-1.0.2 strip-hints-0.1.10 tabulate-0.8.9 termcolor-1.1.0 typer-0.4.0 typing-extensions-3.10.0.2 uritemplate-3.0.1 xgboost-1.5.1\n",
      "\u001b[91mWARNING: Running pip as the 'root' user can result in broken permissions and conflicting behaviour with the system package manager. It is recommended to use a virtual environment instead: https://pip.pypa.io/warnings/venv\n",
      "\u001b[0mRemoving intermediate container bac40234ee11\n",
      " ---> 87503bef39ce\n",
      "Successfully built 87503bef39ce\n",
      "Successfully tagged gcr.io/mlbankapp/bank_app:latest\n",
      "PUSH\n",
      "Pushing gcr.io/mlbankapp/bank_app:latest\n",
      "The push refers to repository [gcr.io/mlbankapp/bank_app]\n",
      "da023ff9f9cc: Preparing\n",
      "1454938e8c75: Preparing\n",
      "1b913f373c39: Preparing\n",
      "8a3424f475cb: Preparing\n",
      "79de2e7105e3: Preparing\n",
      "80fbf1f9de72: Preparing\n",
      "95dd9c08140a: Preparing\n",
      "c77c6b1c9a72: Preparing\n",
      "eb2e1edb9042: Preparing\n",
      "321c7ad58201: Preparing\n",
      "3976e9ae051e: Preparing\n",
      "62aa5e865341: Preparing\n",
      "0d7828e68dda: Preparing\n",
      "ce1f2b34baf7: Preparing\n",
      "5f70bf18a086: Preparing\n",
      "14f43fe5fb59: Preparing\n",
      "2ac22cf101f4: Preparing\n",
      "104b9a8c66b0: Preparing\n",
      "9f54eef41275: Preparing\n",
      "62aa5e865341: Waiting\n",
      "0d7828e68dda: Waiting\n",
      "ce1f2b34baf7: Waiting\n",
      "5f70bf18a086: Waiting\n",
      "14f43fe5fb59: Waiting\n",
      "2ac22cf101f4: Waiting\n",
      "104b9a8c66b0: Waiting\n",
      "9f54eef41275: Waiting\n",
      "80fbf1f9de72: Waiting\n",
      "c77c6b1c9a72: Waiting\n",
      "eb2e1edb9042: Waiting\n",
      "321c7ad58201: Waiting\n",
      "3976e9ae051e: Waiting\n",
      "95dd9c08140a: Waiting\n",
      "8a3424f475cb: Layer already exists\n",
      "1b913f373c39: Layer already exists\n",
      "1454938e8c75: Layer already exists\n",
      "79de2e7105e3: Layer already exists\n",
      "80fbf1f9de72: Layer already exists\n",
      "c77c6b1c9a72: Layer already exists\n",
      "95dd9c08140a: Layer already exists\n",
      "eb2e1edb9042: Layer already exists\n",
      "3976e9ae051e: Layer already exists\n",
      "321c7ad58201: Layer already exists\n",
      "62aa5e865341: Layer already exists\n",
      "0d7828e68dda: Layer already exists\n",
      "ce1f2b34baf7: Layer already exists\n",
      "14f43fe5fb59: Layer already exists\n",
      "5f70bf18a086: Layer already exists\n",
      "2ac22cf101f4: Layer already exists\n",
      "9f54eef41275: Layer already exists\n",
      "104b9a8c66b0: Layer already exists\n",
      "da023ff9f9cc: Pushed\n",
      "latest: digest: sha256:a9cdc258c544506afec5cf34090f9339f4fd8bd78b58794cde3f5095f3ab1c58 size: 4293\n",
      "DONE\n",
      "--------------------------------------------------------------------------------\n",
      "ID                                    CREATE_TIME                DURATION  SOURCE                                                                                   IMAGES                               STATUS\n",
      "1286a182-6611-4723-9f5a-ea2f63eeab85  2022-01-05T14:25:31+00:00  3M51S     gs://mlbankapp_cloudbuild/source/1641392730.711963-675a143d17a8410e8a30d6595d3bf3de.tgz  gcr.io/mlbankapp/bank_app (+1 more)  SUCCESS\n"
     ]
    }
   ],
   "source": [
    "!gcloud builds submit --timeout 15m --tag $BANK_APP_IMAGE_GCR ."
   ]
  },
  {
   "cell_type": "markdown",
   "id": "474e1d54-3735-4809-be75-c611c17425b1",
   "metadata": {},
   "source": [
    "### Import required libraries"
   ]
  },
  {
   "cell_type": "code",
   "execution_count": 7,
   "id": "fb8cc5a4-ebea-4657-b33d-53c2c32ac6a5",
   "metadata": {},
   "outputs": [],
   "source": [
    "import kfp\n",
    "from typing import NamedTuple"
   ]
  },
  {
   "cell_type": "markdown",
   "id": "acda9f0a-e468-43bf-a9bb-a167b4f36e42",
   "metadata": {},
   "source": [
    "### Read and Slipt data Pipeline Step"
   ]
  },
  {
   "cell_type": "code",
   "execution_count": 8,
   "id": "8c17a73d-0bf2-4f61-b41c-f8fe79104409",
   "metadata": {},
   "outputs": [],
   "source": [
    "def read_split_data(gs_path:str, \n",
    "                    data_file_name:str)-> NamedTuple('Outputs',\n",
    "                                                     [('gs_path', str), \n",
    "                                                      ('train_file_name', str),\n",
    "                                                      ('test_file_name', str)]):\n",
    "    import sys\n",
    "    import subprocess        \n",
    "    from pandas import read_csv\n",
    "    from sklearn.model_selection import train_test_split\n",
    "\n",
    "    TRAIN_FILE_NAME = \"train_data.csv\"\n",
    "    TEST_FILE_NAME = \"test_data.csv\"\n",
    "\n",
    "    DATA_FILE_GS_PATH = \"{}/{}\".format(gs_path, data_file_name)\n",
    "    TRAIN_FILE_GS_PATH = \"{}/{}\".format(gs_path, TRAIN_FILE_NAME)\n",
    "    TEST_FILE_GS_PATH = \"{}/{}\".format(gs_path, TEST_FILE_NAME)\n",
    "\n",
    "    data = read_csv(DATA_FILE_GS_PATH)\n",
    "\n",
    "    train, test = train_test_split(data, test_size=0.3, random_state=123)\n",
    "    \n",
    "    train.to_csv(TRAIN_FILE_NAME, index=False)\n",
    "    test.to_csv(TEST_FILE_NAME, index=False)\n",
    "        \n",
    "    subprocess.check_call(['gsutil', 'cp', TRAIN_FILE_NAME, TRAIN_FILE_GS_PATH], stderr=sys.stdout)    \n",
    "    subprocess.check_call(['gsutil', 'cp', TEST_FILE_NAME, TEST_FILE_GS_PATH], stderr=sys.stdout)\n",
    "    \n",
    "    from collections import namedtuple\n",
    "    \n",
    "    read_split_data_output = namedtuple('Outputs', ['gs_path', 'train_file_name', 'test_file_name'])\n",
    "    \n",
    "    return read_split_data_output(gs_path, TRAIN_FILE_NAME, TEST_FILE_NAME)"
   ]
  },
  {
   "cell_type": "markdown",
   "id": "bb238b19-1149-4498-9718-d80bdd795145",
   "metadata": {},
   "source": [
    "Just for testing read_split_data() function"
   ]
  },
  {
   "cell_type": "raw",
   "id": "2a62ed35-d509-4de3-b3e5-910d043aa7c4",
   "metadata": {},
   "source": [
    "read_split_data(GS_PATH, DATA_FILE_NAME)"
   ]
  },
  {
   "cell_type": "code",
   "execution_count": 9,
   "id": "6dc9cd21-d941-4413-a49e-370f67b8d71c",
   "metadata": {},
   "outputs": [],
   "source": [
    "read_split_data_op = kfp.components.create_component_from_func(\n",
    "    read_split_data,\n",
    "    base_image = BANK_APP_IMAGE_GCR,\n",
    "    output_component_file='read_split_data_component.yaml')"
   ]
  },
  {
   "cell_type": "code",
   "execution_count": 10,
   "id": "6865196e-f2a6-4b37-9571-c820fa7bbdd8",
   "metadata": {},
   "outputs": [
    {
     "data": {
      "text/html": [
       "<a href=\"https://646c93bca82df7a6-dot-us-central1.pipelines.googleusercontent.com/#/experiments/details/3340cba3-3ee6-448c-9682-df271650779a\" target=\"_blank\" >Experiment details</a>."
      ],
      "text/plain": [
       "<IPython.core.display.HTML object>"
      ]
     },
     "metadata": {},
     "output_type": "display_data"
    },
    {
     "data": {
      "text/html": [
       "<a href=\"https://646c93bca82df7a6-dot-us-central1.pipelines.googleusercontent.com/#/runs/details/d479c610-a2fd-4351-8c96-6bed7e1b6e7e\" target=\"_blank\" >Run details</a>."
      ],
      "text/plain": [
       "<IPython.core.display.HTML object>"
      ]
     },
     "metadata": {},
     "output_type": "display_data"
    },
    {
     "data": {
      "text/plain": [
       "RunPipelineResult(run_id=d479c610-a2fd-4351-8c96-6bed7e1b6e7e)"
      ]
     },
     "execution_count": 10,
     "metadata": {},
     "output_type": "execute_result"
    }
   ],
   "source": [
    "@kfp.dsl.pipeline(name='ML BankApp', \n",
    "                  description='Kubeflow pipeline for ML BankApp.')\n",
    "def bank_app_pipeline(gs_path, data_file_name):\n",
    "    \n",
    "    read_split_data_op(gs_path, data_file_name)\n",
    "    \n",
    "client = kfp.Client(host='https://646c93bca82df7a6-dot-us-central1.pipelines.googleusercontent.com')\n",
    "    \n",
    "# Specify argument values for your pipeline run.\n",
    "arguments = {'gs_path': GS_PATH,\n",
    "             'data_file_name': DATA_FILE_NAME}\n",
    "\n",
    "# Create a pipeline run, using the client you initialized in a prior step.\n",
    "client.create_run_from_pipeline_func(bank_app_pipeline, arguments=arguments)"
   ]
  },
  {
   "cell_type": "markdown",
   "id": "9a9e550a-2235-4d35-8c5a-7d696ec42bb0",
   "metadata": {},
   "source": [
    "### Train XGB Model"
   ]
  },
  {
   "cell_type": "code",
   "execution_count": 11,
   "id": "2f10a639-2726-4d69-85c5-820e0f2a8c90",
   "metadata": {},
   "outputs": [],
   "source": [
    "def train_xgb_model(gs_path:str, \n",
    "                    train_file_name:str, \n",
    "                    xgb_model: str)->NamedTuple('Outputs',\n",
    "                                                [('gs_path', str), \n",
    "                                                 ('xgb_model', str)]):\n",
    "\n",
    "    import sys\n",
    "    import subprocess\n",
    "    import pandas as pd\n",
    "\n",
    "    from joblib import dump\n",
    "\n",
    "    from sklearn.impute import SimpleImputer\n",
    "    from sklearn.preprocessing import StandardScaler, OneHotEncoder\n",
    "    from sklearn.compose import ColumnTransformer \n",
    "    from sklearn.pipeline import Pipeline\n",
    "    from xgboost import XGBClassifier\n",
    "    \n",
    "    train_file_gs_path = \"{}/{}\".format(gs_path, train_file_name)\n",
    "    \n",
    "    train = pd.read_csv(train_file_gs_path)\n",
    "    \n",
    "    cat_Attr_Names = ['job', 'marital', 'education', 'credit_default', 'housing', 'loan', \n",
    "                      'contact', 'contacted_month', 'day_of_week', 'poutcome', 'y']\n",
    "\n",
    "    num_Attr_Names = list(set(train.columns) - set(cat_Attr_Names))\n",
    "\n",
    "    train[cat_Attr_Names] = train[cat_Attr_Names].apply(lambda col: col.astype('category'))\n",
    "    train[num_Attr_Names] = train[num_Attr_Names].apply(lambda col: col.astype('float64'))\n",
    "    \n",
    "    X_train = train.drop(columns=['y'])\n",
    "    y_train = train['y']\n",
    "\n",
    "    cat_Attr_Names = list(set(cat_Attr_Names) - set('y'))\n",
    "    \n",
    "    numeric_transformer = Pipeline(steps=[\n",
    "        ('num_imputer', SimpleImputer(strategy='median')),\n",
    "        ('scaler', StandardScaler())])\n",
    "\n",
    "    categorical_transformer = Pipeline(steps=[\n",
    "        ('cat_imputer', SimpleImputer(strategy='most_frequent')),\n",
    "        ('onehot', OneHotEncoder(handle_unknown='ignore'))])\n",
    "\n",
    "    preprocess = ColumnTransformer(\n",
    "        transformers=[\n",
    "            ('num', numeric_transformer, num_Attr_Names),\n",
    "            ('cat', categorical_transformer, cat_Attr_Names)])\n",
    "    \n",
    "    xgb_pipeline = Pipeline([('preprocess', preprocess),\n",
    "                             ('xgboost', XGBClassifier())])\n",
    "    \n",
    "    xgb_pipeline.fit(X_train, y_train)\n",
    "  \n",
    "    dump(xgb_pipeline, xgb_model)\n",
    "    \n",
    "    xgb_model_gs_path = '{}/{}'.format(gs_path, xgb_model)\n",
    "    \n",
    "    subprocess.check_call(['gsutil', 'cp', xgb_model, xgb_model_gs_path], stderr=sys.stdout)\n",
    "    \n",
    "    from collections import namedtuple\n",
    "    \n",
    "    train_xgb_model_output = namedtuple('Outputs', ['gs_path', 'xgb_model'])\n",
    "    \n",
    "    return train_xgb_model_output(gs_path, xgb_model)    "
   ]
  },
  {
   "cell_type": "markdown",
   "id": "09b35bbf-ec71-4d35-9248-dbe42ec4d254",
   "metadata": {},
   "source": [
    "Just for testing train_xgb_model() function"
   ]
  },
  {
   "cell_type": "raw",
   "id": "e55d7b59-e06e-4437-9a6d-48af6d4eeeae",
   "metadata": {},
   "source": [
    "train_xgb_model(GS_PATH, TRAIN_FILE_NAME, XGB_MODEL)"
   ]
  },
  {
   "cell_type": "code",
   "execution_count": 12,
   "id": "47055f86-3223-44b3-a3a9-9ccafab7f786",
   "metadata": {},
   "outputs": [],
   "source": [
    "train_xgb_model_op = kfp.components.create_component_from_func(\n",
    "    train_xgb_model,\n",
    "    base_image=BANK_APP_IMAGE_GCR,\n",
    "    output_component_file='train_xgb_model_component.yaml')"
   ]
  },
  {
   "cell_type": "code",
   "execution_count": 13,
   "id": "09edc5d1-d472-4f79-81a8-bcfa4fb7d71d",
   "metadata": {},
   "outputs": [
    {
     "data": {
      "text/html": [
       "<a href=\"https://646c93bca82df7a6-dot-us-central1.pipelines.googleusercontent.com/#/experiments/details/3340cba3-3ee6-448c-9682-df271650779a\" target=\"_blank\" >Experiment details</a>."
      ],
      "text/plain": [
       "<IPython.core.display.HTML object>"
      ]
     },
     "metadata": {},
     "output_type": "display_data"
    },
    {
     "data": {
      "text/html": [
       "<a href=\"https://646c93bca82df7a6-dot-us-central1.pipelines.googleusercontent.com/#/runs/details/ff4af724-0b33-48bd-9639-b98c80e36d25\" target=\"_blank\" >Run details</a>."
      ],
      "text/plain": [
       "<IPython.core.display.HTML object>"
      ]
     },
     "metadata": {},
     "output_type": "display_data"
    },
    {
     "data": {
      "text/plain": [
       "RunPipelineResult(run_id=ff4af724-0b33-48bd-9639-b98c80e36d25)"
      ]
     },
     "execution_count": 13,
     "metadata": {},
     "output_type": "execute_result"
    }
   ],
   "source": [
    "@kfp.dsl.pipeline(\n",
    "   name='ML BankApp',\n",
    "   description='Kubeflow pipeline for ML BankApp .'\n",
    ")\n",
    "def bank_app_pipeline(gs_path, data_file_name):\n",
    "    \n",
    "    train_test_split = read_split_data_op(gs_path, data_file_name)\n",
    "        \n",
    "    xgb_model = train_xgb_model_op(train_test_split.outputs['gs_path'], \n",
    "                                   train_test_split.outputs['train_file_name'],\n",
    "                                   XGB_MODEL)\n",
    "    \n",
    "    \n",
    "client = kfp.Client(host='https://646c93bca82df7a6-dot-us-central1.pipelines.googleusercontent.com') \n",
    "    \n",
    "# Specify argument values for your pipeline run.\n",
    "arguments = {'gs_path': GS_PATH,\n",
    "             'data_file_name': DATA_FILE_NAME}\n",
    "\n",
    "# Create a pipeline run, using the client you initialized in a prior step.\n",
    "client.create_run_from_pipeline_func(bank_app_pipeline, arguments=arguments)"
   ]
  },
  {
   "cell_type": "markdown",
   "id": "bd092b26-b7e0-4829-8cd5-6b359fc5ef72",
   "metadata": {
    "tags": []
   },
   "source": [
    "### Training Random Forest Model"
   ]
  },
  {
   "cell_type": "code",
   "execution_count": 14,
   "id": "d56acbe7-0ce3-4e35-87a5-b31b2afd6c6a",
   "metadata": {},
   "outputs": [],
   "source": [
    "def train_rf_model(gs_path:str, \n",
    "                   train_file_name:str,\n",
    "                   rf_model:str)->NamedTuple('Outputs',\n",
    "                                             [('gs_path', str), \n",
    "                                              ('rf_model', str)]):\n",
    "\n",
    "    import sys\n",
    "    import subprocess\n",
    "    import pandas as pd\n",
    "\n",
    "    from joblib import dump\n",
    "\n",
    "    from sklearn.impute import SimpleImputer\n",
    "    from sklearn.preprocessing import StandardScaler, OneHotEncoder\n",
    "    from sklearn.compose import ColumnTransformer \n",
    "    from sklearn.pipeline import Pipeline\n",
    "    from sklearn.ensemble import RandomForestClassifier\n",
    "    \n",
    "    train_file_gs_path = \"{}/{}\".format(gs_path, train_file_name)\n",
    "    \n",
    "    train = pd.read_csv(train_file_gs_path)\n",
    "    \n",
    "    cat_Attr_Names = ['job', 'marital', 'education', 'credit_default', 'housing', 'loan', \n",
    "                      'contact', 'contacted_month', 'day_of_week', 'poutcome', 'y']\n",
    "\n",
    "    num_Attr_Names = list(set(train.columns) - set(cat_Attr_Names))\n",
    "\n",
    "    train[cat_Attr_Names] = train[cat_Attr_Names].apply(lambda col: col.astype('category'))\n",
    "    train[num_Attr_Names] = train[num_Attr_Names].apply(lambda col: col.astype('float64'))\n",
    "    \n",
    "    X_train = train.drop(columns=['y'])\n",
    "    y_train = train['y']\n",
    "\n",
    "    cat_Attr_Names = list(set(cat_Attr_Names) - set('y'))\n",
    "    \n",
    "    numeric_transformer = Pipeline(steps=[\n",
    "        ('num_imputer', SimpleImputer(strategy='median')),\n",
    "        ('scaler', StandardScaler())])\n",
    "\n",
    "    categorical_transformer = Pipeline(steps=[\n",
    "        ('cat_imputer', SimpleImputer(strategy='most_frequent')),\n",
    "        ('onehot', OneHotEncoder(handle_unknown='ignore'))])\n",
    "\n",
    "    preprocess = ColumnTransformer(\n",
    "        transformers=[\n",
    "            ('num', numeric_transformer, num_Attr_Names),\n",
    "            ('cat', categorical_transformer, cat_Attr_Names)])\n",
    "    \n",
    "    rf_pipeline = Pipeline([('preprocess', preprocess),\n",
    "                            ('rf', RandomForestClassifier())])\n",
    "    \n",
    "    rf_pipeline.fit(X_train, y_train)\n",
    "    \n",
    "    dump(rf_pipeline, rf_model)\n",
    "    \n",
    "    rf_model_gs_path = '{}/{}'.format(gs_path, rf_model)\n",
    "    \n",
    "    subprocess.check_call(['gsutil', 'cp', rf_model, rf_model_gs_path], stderr=sys.stdout)\n",
    "    \n",
    "    from collections import namedtuple\n",
    "    \n",
    "    train_rf_model_output = namedtuple('Outputs', ['gs_path', 'rf_model'])\n",
    "    \n",
    "    return train_rf_model_output(gs_path, rf_model)        "
   ]
  },
  {
   "cell_type": "markdown",
   "id": "b07b5e62-ce3b-4a6d-a8ac-f1b8e89ac5e3",
   "metadata": {},
   "source": [
    "Just for testing train_rf_model() function"
   ]
  },
  {
   "cell_type": "raw",
   "id": "fd96b0b9-9273-438a-afd0-3681b879dda5",
   "metadata": {},
   "source": [
    "train_rf_model(GS_PATH, TRAIN_FILE_NAME, RF_MODEL)"
   ]
  },
  {
   "cell_type": "code",
   "execution_count": 15,
   "id": "f7240b33-c4c5-43eb-89f2-bbfedea37b28",
   "metadata": {},
   "outputs": [],
   "source": [
    "train_rf_model_op = kfp.components.create_component_from_func(\n",
    "    train_rf_model,\n",
    "    base_image=BANK_APP_IMAGE_GCR,\n",
    "    output_component_file='train_rf_model_component.yaml')"
   ]
  },
  {
   "cell_type": "code",
   "execution_count": 16,
   "id": "ce478760-f81c-4e5c-b5c8-1b7ba36ab713",
   "metadata": {},
   "outputs": [
    {
     "data": {
      "text/html": [
       "<a href=\"https://646c93bca82df7a6-dot-us-central1.pipelines.googleusercontent.com/#/experiments/details/3340cba3-3ee6-448c-9682-df271650779a\" target=\"_blank\" >Experiment details</a>."
      ],
      "text/plain": [
       "<IPython.core.display.HTML object>"
      ]
     },
     "metadata": {},
     "output_type": "display_data"
    },
    {
     "data": {
      "text/html": [
       "<a href=\"https://646c93bca82df7a6-dot-us-central1.pipelines.googleusercontent.com/#/runs/details/c0143216-2b4b-4ee1-a6b9-be0ed5617132\" target=\"_blank\" >Run details</a>."
      ],
      "text/plain": [
       "<IPython.core.display.HTML object>"
      ]
     },
     "metadata": {},
     "output_type": "display_data"
    },
    {
     "data": {
      "text/plain": [
       "RunPipelineResult(run_id=c0143216-2b4b-4ee1-a6b9-be0ed5617132)"
      ]
     },
     "execution_count": 16,
     "metadata": {},
     "output_type": "execute_result"
    }
   ],
   "source": [
    "@kfp.dsl.pipeline(\n",
    "   name='ML BankApp',\n",
    "   description='Kubeflow pipeline for ML BankApp .'\n",
    ")\n",
    "def bank_app_pipeline(gs_path, data_file_name):\n",
    "    \n",
    "    train_test_split = read_split_data_op(gs_path, data_file_name)        \n",
    "    xgb_model = train_xgb_model_op(train_test_split.outputs['gs_path'], \n",
    "                                   train_test_split.outputs['train_file_name'],\n",
    "                                   XGB_MODEL)\n",
    "    rf_model = train_rf_model_op(train_test_split.outputs['gs_path'], \n",
    "                                 train_test_split.outputs['train_file_name'],\n",
    "                                 RF_MODEL)\n",
    "\n",
    "client = kfp.Client(host='https://646c93bca82df7a6-dot-us-central1.pipelines.googleusercontent.com')    \n",
    "    \n",
    "# Specify argument values for your pipeline run.\n",
    "arguments = {'gs_path': GS_PATH,\n",
    "             'data_file_name': DATA_FILE_NAME}\n",
    "\n",
    "# Create a pipeline run, using the client you initialized in a prior step.\n",
    "client.create_run_from_pipeline_func(bank_app_pipeline, arguments=arguments)"
   ]
  },
  {
   "cell_type": "markdown",
   "id": "7c08bd96-5c2c-463c-8341-6b2c27fb996f",
   "metadata": {},
   "source": [
    "### Evaluate Models"
   ]
  },
  {
   "cell_type": "code",
   "execution_count": 17,
   "id": "07a1f612-b81e-4de0-bfb1-c99d03cc9b45",
   "metadata": {},
   "outputs": [],
   "source": [
    "def evaluate_model(gs_path:str, model_joblib:str, test_file_name:str) -> float:\n",
    "    \n",
    "    import sys\n",
    "    import subprocess\n",
    "    import pandas as pd\n",
    "    from joblib import load\n",
    "    from sklearn.metrics import accuracy_score\n",
    "        \n",
    "    input_test_file_gs_path = '{}/{}'.format(gs_path, test_file_name)\n",
    "    test = pd.read_csv(input_test_file_gs_path)\n",
    "\n",
    "    cat_Attr_Names = ['job', 'marital', 'education', 'credit_default', 'housing', 'loan', \n",
    "                      'contact', 'contacted_month', 'day_of_week', 'poutcome', 'y']\n",
    "    num_Attr_Names = list(set(test.columns) - set(cat_Attr_Names))\n",
    "\n",
    "    test[cat_Attr_Names] = test[cat_Attr_Names].apply(lambda col: col.astype('category'))\n",
    "    test[num_Attr_Names] = test[num_Attr_Names].apply(lambda col: col.astype('float64'))\n",
    "    \n",
    "    X_test = test.drop(columns=['y'])\n",
    "    y_test = test['y']\n",
    "\n",
    "    cat_Attr_Names = list(set(cat_Attr_Names) - set('y'))\n",
    "    \n",
    "    model_gs_path = '{}/{}'.format(gs_path, model_joblib)\n",
    "    subprocess.check_call(['gsutil', 'cp', model_gs_path, model_joblib], stderr=sys.stdout)\n",
    "    \n",
    "    model = load(model_joblib)\n",
    "    \n",
    "    accuracy = model.score(X_test, y_test)\n",
    "    \n",
    "    return accuracy"
   ]
  },
  {
   "cell_type": "raw",
   "id": "9e65243e-9c99-4f1e-9c50-98c537fad34e",
   "metadata": {},
   "source": [
    "evaluate_model(GS_PATH, XGB_MODEL, \"test_data.csv\")"
   ]
  },
  {
   "cell_type": "raw",
   "id": "92bfaeb2-db33-4489-ac5d-425f10e860a1",
   "metadata": {},
   "source": [
    "evaluate_model(GS_PATH, RF_MODEL, \"test_data.csv\")"
   ]
  },
  {
   "cell_type": "code",
   "execution_count": 18,
   "id": "fb8825f0-2c16-437e-b2d5-c69338c68207",
   "metadata": {},
   "outputs": [],
   "source": [
    "evaluate_model_op = kfp.components.create_component_from_func(\n",
    "    evaluate_model,\n",
    "    base_image=BANK_APP_IMAGE_GCR,\n",
    "    output_component_file='evaluate_model_component.yaml')"
   ]
  },
  {
   "cell_type": "code",
   "execution_count": 19,
   "id": "4e2357ca-1fea-4df4-a22d-2c2b5a77a6e3",
   "metadata": {},
   "outputs": [
    {
     "data": {
      "text/html": [
       "<a href=\"https://646c93bca82df7a6-dot-us-central1.pipelines.googleusercontent.com/#/experiments/details/3340cba3-3ee6-448c-9682-df271650779a\" target=\"_blank\" >Experiment details</a>."
      ],
      "text/plain": [
       "<IPython.core.display.HTML object>"
      ]
     },
     "metadata": {},
     "output_type": "display_data"
    },
    {
     "data": {
      "text/html": [
       "<a href=\"https://646c93bca82df7a6-dot-us-central1.pipelines.googleusercontent.com/#/runs/details/654e48f0-2ea8-4863-8ee5-704c2315b1ae\" target=\"_blank\" >Run details</a>."
      ],
      "text/plain": [
       "<IPython.core.display.HTML object>"
      ]
     },
     "metadata": {},
     "output_type": "display_data"
    },
    {
     "data": {
      "text/plain": [
       "RunPipelineResult(run_id=654e48f0-2ea8-4863-8ee5-704c2315b1ae)"
      ]
     },
     "execution_count": 19,
     "metadata": {},
     "output_type": "execute_result"
    }
   ],
   "source": [
    "@kfp.dsl.pipeline(\n",
    "   name='ML BankApp',\n",
    "   description='Kubeflow pipeline for ML BankApp .'\n",
    ")\n",
    "def bank_app_pipeline(gs_path, data_file_name):\n",
    "    \n",
    "    train_test_split = read_split_data_op(gs_path, data_file_name)  \n",
    "    \n",
    "    xgb_model = train_xgb_model_op(train_test_split.outputs['gs_path'], \n",
    "                                   train_test_split.outputs['train_file_name'],\n",
    "                                   XGB_MODEL)\n",
    "    \n",
    "    rf_model = train_rf_model_op(train_test_split.outputs['gs_path'], \n",
    "                                 train_test_split.outputs['train_file_name'], \n",
    "                                 RF_MODEL)\n",
    "    \n",
    "    eval_xgb_model = evaluate_model_op(xgb_model.outputs['gs_path'], \n",
    "                                       xgb_model.outputs['xgb_model'],                                       \n",
    "                                       train_test_split.outputs['test_file_name'])\n",
    "                                       \n",
    "    eval_rf_model = evaluate_model_op(rf_model.outputs['gs_path'], \n",
    "                                      rf_model.outputs['rf_model'],                                       \n",
    "                                      train_test_split.outputs['test_file_name'])\n",
    "    \n",
    "client = kfp.Client(host='https://646c93bca82df7a6-dot-us-central1.pipelines.googleusercontent.com')    \n",
    "    \n",
    "# Specify argument values for your pipeline run.\n",
    "arguments = {'gs_path': GS_PATH,\n",
    "             'data_file_name': DATA_FILE_NAME}\n",
    "\n",
    "# Create a pipeline run, using the client you initialized in a prior step.\n",
    "client.create_run_from_pipeline_func(bank_app_pipeline, arguments=arguments)"
   ]
  },
  {
   "cell_type": "code",
   "execution_count": 20,
   "id": "1de6f972-e108-43b4-949d-263609ac1792",
   "metadata": {},
   "outputs": [
    {
     "data": {
      "text/html": [
       "<a href=\"https://646c93bca82df7a6-dot-us-central1.pipelines.googleusercontent.com/#/experiments/details/3340cba3-3ee6-448c-9682-df271650779a\" target=\"_blank\" >Experiment details</a>."
      ],
      "text/plain": [
       "<IPython.core.display.HTML object>"
      ]
     },
     "metadata": {},
     "output_type": "display_data"
    },
    {
     "data": {
      "text/html": [
       "<a href=\"https://646c93bca82df7a6-dot-us-central1.pipelines.googleusercontent.com/#/runs/details/648a3949-e9b9-4afc-8905-95ce8208a239\" target=\"_blank\" >Run details</a>."
      ],
      "text/plain": [
       "<IPython.core.display.HTML object>"
      ]
     },
     "metadata": {},
     "output_type": "display_data"
    },
    {
     "data": {
      "text/plain": [
       "RunPipelineResult(run_id=648a3949-e9b9-4afc-8905-95ce8208a239)"
      ]
     },
     "execution_count": 20,
     "metadata": {},
     "output_type": "execute_result"
    }
   ],
   "source": [
    "@kfp.dsl.pipeline(\n",
    "   name='ML BankApp',\n",
    "   description='Kubeflow pipeline for ML BankApp .'\n",
    ")\n",
    "def bank_app_pipeline(gs_path, data_file_name):\n",
    "    \n",
    "    train_test_split = read_split_data_op(gs_path, data_file_name)  \n",
    "    \n",
    "    xgb_model = train_xgb_model_op(train_test_split.outputs['gs_path'], \n",
    "                                   train_test_split.outputs['train_file_name'], \n",
    "                                   XGB_MODEL)\n",
    "    \n",
    "    rf_model = train_rf_model_op(train_test_split.outputs['gs_path'], \n",
    "                                 train_test_split.outputs['train_file_name'], \n",
    "                                 RF_MODEL)\n",
    "    \n",
    "    eval_xgb_model = evaluate_model_op(xgb_model.outputs['gs_path'], \n",
    "                                       xgb_model.outputs['xgb_model'],                                       \n",
    "                                       train_test_split.outputs['test_file_name'])\n",
    "                                       \n",
    "    eval_rf_model = evaluate_model_op(rf_model.outputs['gs_path'], \n",
    "                                      rf_model.outputs['rf_model'],                                       \n",
    "                                      train_test_split.outputs['test_file_name'])\n",
    "    \n",
    "    with kfp.dsl.Condition(eval_xgb_model.output >= eval_rf_model.output):\n",
    "        train_xgb_model_op(gs_path, data_file_name, BEST_MODEL)\n",
    "    with kfp.dsl.Condition(eval_xgb_model.output < eval_rf_model.output):\n",
    "        train_rf_model_op(gs_path, data_file_name, BEST_MODEL)\n",
    "\n",
    "client = kfp.Client(host='https://646c93bca82df7a6-dot-us-central1.pipelines.googleusercontent.com')    \n",
    "    \n",
    "# Specify argument values for your pipeline run.\n",
    "arguments = {'gs_path': GS_PATH,\n",
    "             'data_file_name': DATA_FILE_NAME}\n",
    "\n",
    "# Create a pipeline run, using the client you initialized in a prior step.\n",
    "client.create_run_from_pipeline_func(bank_app_pipeline, arguments=arguments)"
   ]
  }
 ],
 "metadata": {
  "environment": {
   "kernel": "python3",
   "name": "common-cpu.m87",
   "type": "gcloud",
   "uri": "gcr.io/deeplearning-platform-release/base-cpu:m87"
  },
  "kernelspec": {
   "display_name": "Python 3",
   "language": "python",
   "name": "python3"
  },
  "language_info": {
   "codemirror_mode": {
    "name": "ipython",
    "version": 3
   },
   "file_extension": ".py",
   "mimetype": "text/x-python",
   "name": "python",
   "nbconvert_exporter": "python",
   "pygments_lexer": "ipython3",
   "version": "3.7.12"
  }
 },
 "nbformat": 4,
 "nbformat_minor": 5
}
